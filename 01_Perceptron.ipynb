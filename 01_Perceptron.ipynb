{
 "cells": [
  {
   "cell_type": "markdown",
   "metadata": {},
   "source": [
    "# 객체 지향 퍼셉트론 API"
   ]
  },
  {
   "cell_type": "code",
   "execution_count": 7,
   "metadata": {},
   "outputs": [],
   "source": [
    "import numpy as np"
   ]
  },
  {
   "cell_type": "code",
   "execution_count": 8,
   "metadata": {},
   "outputs": [],
   "source": [
    "class Perceptron(object):\n",
    "    \"\"\"\n",
    "    퍼셉트론 분류기\n",
    "    \n",
    "    매개변수\n",
    "    -----------\n",
    "    eta : float\n",
    "        학습률 (0.0과 1.0 사이)\n",
    "    n_iter : int\n",
    "        훈련 데이터 셋 반복 횟수(에포크)\n",
    "    random_state : int\n",
    "        가중치 무작위 초기화를 위한 난수 생성기 시드\n",
    "    \n",
    "    속성\n",
    "    -----------\n",
    "    w_ : 1d-array\n",
    "        학습된 가중치\n",
    "    errors_ : list\n",
    "        에포크마다 누적된 부류 오류\n",
    "        \n",
    "    \"\"\"\n",
    "    \n",
    "    def __init__(self, eta = 0.01, n_iter = 50, random_state = 1):\n",
    "        self.eta = eta\n",
    "        self.n_iter = n_iter\n",
    "        self.random_state = random_state\n",
    "        \n",
    "    def fit(self, X, y):\n",
    "        \"\"\"\n",
    "        훈련 데이터 학습\n",
    "        \n",
    "        매개변수\n",
    "        -----------\n",
    "        X : {array-like}, shape = [n_sample, n_features]\n",
    "            n_samples개의 샘플과 n_features개의 특성으로 이루어진 훈련 데이터\n",
    "        y : array-like, shape = [n_sample]\n",
    "            타깃값\n",
    "            \n",
    "        반환값\n",
    "        -----------\n",
    "        self : object\n",
    "        \n",
    "        \"\"\"\n",
    "        rgen = np.random.RandomState(self.random_state)   # 넘파이 난수 생성기\n",
    "        self.w_ = rgen.normal(loc = 0.0, scale = 0.01,\n",
    "                             size = 1 + X.shape[1])      # X.shape[1] = 2(꽃잎과 꽃받침) -> 총 3개의 값 추출\n",
    "        self.errors_ = []\n",
    "        \n",
    "        for _ in range(self.n_iter):                 # 훈련데이터 셋 반복\n",
    "            errors = 0     # 에러 초깃값 0\n",
    "            for xi, target in zip(X, y):             # zip(X, y)를 한번에 받음. 단, zip()에 있는 변수의 길이가 끝나면 for 구문 끝.\n",
    "                update = self.eta * (target - self.predict(xi))  # 업데이트할 오류(하나씩!), net_input 함수와 predict 함수 사용\n",
    "                self.w_[1:] += update * xi           # 가중치의 2번째, 3번째 값에 누적\n",
    "                self.w_[0] += update                 # 가중치의 1번째 값에 누적\n",
    "                errors += int(update != 0.0)         # 오류 누적\n",
    "            self.errors_.append(errors)\n",
    "        return self\n",
    "    \n",
    "    def net_input(self, X):\n",
    "        \"\"\"최종 입력 계산\"\"\"\n",
    "        return np.dot(X, self.w_[1:]) + self.w_[0]    # 행렬의 곱셈(경영수학) / 조정된 가중치를 가지고 X의 각 값에 곱하고 update를 더함\n",
    "    \n",
    "    def predict(self, X):\n",
    "        \"\"\"단위 계단 함수를 사용하여 클래스 레이블을 반환합니다.\"\"\"\n",
    "        return np.where(self.net_input(X) >= 0.0, 1, -1)   # 음수면 -1 리턴, 양수면 +1 리턴\n",
    "    \n",
    "    "
   ]
  },
  {
   "cell_type": "code",
   "execution_count": 9,
   "metadata": {},
   "outputs": [
    {
     "name": "stderr",
     "output_type": "stream",
     "text": [
      "<ipython-input-9-8605c8bc76dc>:5: RuntimeWarning: invalid value encountered in arccos\n",
      "  np.arccos(v1)     # v1의 역코사인 삼각 함수\n"
     ]
    },
    {
     "data": {
      "text/plain": [
       "0.0"
      ]
     },
     "execution_count": 9,
     "metadata": {},
     "output_type": "execute_result"
    }
   ],
   "source": [
    "# 삼각법\n",
    "v1 = np.array([1,2,3])\n",
    "v2 = 0.5 * v1\n",
    "np.linalg.norm(v1) #  v1 벡터의 길이\n",
    "np.arccos(v1)     # v1의 역코사인 삼각 함수\n",
    "v1.dot(v2)        # 벡터의 점곱을 계산 / sum(i * j for i, j in zip(v1, v2))와 같음 / 각각의 벡터끼리 곱하는 것임\n",
    "np.arccos(v1.dot(v2) / (np.linalg.norm(v1) * (np.linalg.norm(v2))))"
   ]
  },
  {
   "cell_type": "markdown",
   "metadata": {},
   "source": [
    "# 붓꽃 데이터셋에서 퍼셉트론 훈련"
   ]
  },
  {
   "cell_type": "markdown",
   "metadata": {},
   "source": [
    "OvR(One-versus-Rest) : 이진 분류기를 다중 클래스 문제에 적용 가능"
   ]
  },
  {
   "cell_type": "code",
   "execution_count": 10,
   "metadata": {},
   "outputs": [
    {
     "data": {
      "text/html": [
       "<div>\n",
       "<style scoped>\n",
       "    .dataframe tbody tr th:only-of-type {\n",
       "        vertical-align: middle;\n",
       "    }\n",
       "\n",
       "    .dataframe tbody tr th {\n",
       "        vertical-align: top;\n",
       "    }\n",
       "\n",
       "    .dataframe thead th {\n",
       "        text-align: right;\n",
       "    }\n",
       "</style>\n",
       "<table border=\"1\" class=\"dataframe\">\n",
       "  <thead>\n",
       "    <tr style=\"text-align: right;\">\n",
       "      <th></th>\n",
       "      <th>0</th>\n",
       "      <th>1</th>\n",
       "      <th>2</th>\n",
       "      <th>3</th>\n",
       "      <th>4</th>\n",
       "    </tr>\n",
       "  </thead>\n",
       "  <tbody>\n",
       "    <tr>\n",
       "      <th>145</th>\n",
       "      <td>6.7</td>\n",
       "      <td>3.0</td>\n",
       "      <td>5.2</td>\n",
       "      <td>2.3</td>\n",
       "      <td>Iris-virginica</td>\n",
       "    </tr>\n",
       "    <tr>\n",
       "      <th>146</th>\n",
       "      <td>6.3</td>\n",
       "      <td>2.5</td>\n",
       "      <td>5.0</td>\n",
       "      <td>1.9</td>\n",
       "      <td>Iris-virginica</td>\n",
       "    </tr>\n",
       "    <tr>\n",
       "      <th>147</th>\n",
       "      <td>6.5</td>\n",
       "      <td>3.0</td>\n",
       "      <td>5.2</td>\n",
       "      <td>2.0</td>\n",
       "      <td>Iris-virginica</td>\n",
       "    </tr>\n",
       "    <tr>\n",
       "      <th>148</th>\n",
       "      <td>6.2</td>\n",
       "      <td>3.4</td>\n",
       "      <td>5.4</td>\n",
       "      <td>2.3</td>\n",
       "      <td>Iris-virginica</td>\n",
       "    </tr>\n",
       "    <tr>\n",
       "      <th>149</th>\n",
       "      <td>5.9</td>\n",
       "      <td>3.0</td>\n",
       "      <td>5.1</td>\n",
       "      <td>1.8</td>\n",
       "      <td>Iris-virginica</td>\n",
       "    </tr>\n",
       "  </tbody>\n",
       "</table>\n",
       "</div>"
      ],
      "text/plain": [
       "       0    1    2    3               4\n",
       "145  6.7  3.0  5.2  2.3  Iris-virginica\n",
       "146  6.3  2.5  5.0  1.9  Iris-virginica\n",
       "147  6.5  3.0  5.2  2.0  Iris-virginica\n",
       "148  6.2  3.4  5.4  2.3  Iris-virginica\n",
       "149  5.9  3.0  5.1  1.8  Iris-virginica"
      ]
     },
     "execution_count": 10,
     "metadata": {},
     "output_type": "execute_result"
    }
   ],
   "source": [
    "import pandas as pd\n",
    "df = pd.read_csv('https://archive.ics.uci.edu/ml/'\n",
    "                'machine-learning-databases/iris/iris.data',\n",
    "                header=None)\n",
    "df.tail()"
   ]
  },
  {
   "cell_type": "code",
   "execution_count": 11,
   "metadata": {},
   "outputs": [
    {
     "data": {
      "image/png": "[encoded data removed]",
      "text/plain": [
       "<Figure size 432x288 with 1 Axes>"
      ]
     },
     "metadata": {
      "needs_background": "light"
     },
     "output_type": "display_data"
    }
   ],
   "source": [
    "import matplotlib.pyplot as plt\n",
    "import numpy as np\n",
    "\n",
    "# setosa와 versicolor를 선택합니다. \n",
    "y = df.iloc[0:100, 4].values   # df의 4번째 열에서 100번째행까지 값 추출\n",
    "y = np.where( y == 'Iris-setosa', -1, 1)    # Iris-setosa는 -1, versicaolor는 1\n",
    "\n",
    "# 꽃받침 길이와 꽃잎 길이를 추출합니다.\n",
    "X = df.iloc[0:100, [0, 2]].values   # df의 2, 4번째 열에서 100번째 행까지 값 추출\n",
    "\n",
    "# 산점도를 그립니다.\n",
    "plt.scatter(X[:50, 0], X[:50, 1],\n",
    "           color = 'red', marker = 'o', label = 'setosa')\n",
    "plt.scatter(X[51:100, 0], X[51:100, 1],\n",
    "           color = 'blue', marker = 'x', label = 'versicolor')\n",
    "plt.xlabel('sepal length [cm]')\n",
    "plt.ylabel('petal length [cm]')\n",
    "plt.legend(loc='upper left')\n",
    "plt.show()"
   ]
  },
  {
   "cell_type": "markdown",
   "metadata": {},
   "source": [
    "### 퍼셉트론 알고리즘 훈련"
   ]
  },
  {
   "cell_type": "code",
   "execution_count": 12,
   "metadata": {},
   "outputs": [
    {
     "data": {
      "image/png": "[encoded data removed]",
      "text/plain": [
       "<Figure size 432x288 with 1 Axes>"
      ]
     },
     "metadata": {
      "needs_background": "light"
     },
     "output_type": "display_data"
    }
   ],
   "source": [
    "ppn = Perceptron(eta=0.1, n_iter=10)\n",
    "ppn.fit(X, y)\n",
    "plt.plot(range(1, len(ppn.errors_) + 1), ppn.errors_, marker='o')   # x축은 훈련 데이터 반복 횟수, y축은 오류개순\n",
    "plt.xlabel('Epochs')   # 훈련데이터 반복 횟수\n",
    "plt.ylabel('NUmber of errors')\n",
    "plt.show()"
   ]
  },
  {
   "cell_type": "code",
   "execution_count": 13,
   "metadata": {},
   "outputs": [],
   "source": [
    "from matplotlib.colors import ListedColormap\n",
    "\n",
    "def plot_decision_regions(X, y, classifier, resolution = 0.02):\n",
    "    \n",
    "    \n",
    "    # 마커와 컬러맵을 설정합니다.\n",
    "    markers = ('s', 'x', 'o', '^', 'v')\n",
    "    colors = ('red', 'blue', 'lightgreen', 'gray', 'cyan')\n",
    "    cmap = ListedColormap(colors[:len(np.unique(y))])    # y가 나올 수 있는 값이 3개이기때문에 colors[:3] 즉, red, blue, lightgreen 출력\n",
    "    \n",
    "    # 결정 경계를 그립니다.\n",
    "    x1_min, x1_max = X[:, 0].min() - 1, X[:, 0].max() + 1      # X의 1번째 열\n",
    "    x2_min, x2_max = X[:, 1].min() - 1, X[:, 1].max() + 1      # X의 2번째 열\n",
    "    xx1, xx2 = np.meshgrid(np.arange(x1_min, x1_max, resolution),\n",
    "                          np.arange(x2_min, x2_max, resolution))\n",
    "    Z = classifier.predict(np.array([xx1.ravel(), xx2.ravel()]).T)\n",
    "    Z = Z.reshape(xx1.shape)\n",
    "    plt.contourf(xx1, xx2, Z, alpha = 0.3, cmap = cmap)    # matplotlib의 등고선 그리기\n",
    "    plt.xlim(xx1.min(), xx1.max())\n",
    "    plt.ylim(xx2.min(), xx2.max())\n",
    "    \n",
    "    # 샘플의 산점도를 그립니다.\n",
    "    for idx, cl in enumerate(np.unique(y)):   # enumerate : 인덱스와 값을 함께 출력해준다. index, value 순서!\n",
    "        plt.scatter(x = X[y == cl, 0],\n",
    "                   y =X[y == cl, 1],\n",
    "                   alpha = 0.8,\n",
    "                   c = colors[idx],\n",
    "                   marker = markers[idx],\n",
    "                   label = cl,\n",
    "                   edgecolor = 'black')\n",
    "    "
   ]
  },
  {
   "cell_type": "code",
   "execution_count": 14,
   "metadata": {},
   "outputs": [
    {
     "data": {
      "image/png": "[encoded data removed]",
      "text/plain": [
       "<Figure size 432x288 with 1 Axes>"
      ]
     },
     "metadata": {
      "needs_background": "light"
     },
     "output_type": "display_data"
    }
   ],
   "source": [
    "plot_decision_regions(X, y, classifier = ppn)   # ppn을 식별자로 그리드를 그려라~\n",
    "plt.xlabel('sepal length [cm]')\n",
    "plt.ylabel('petal length [cm]')\n",
    "plt.legend(loc = 'upper left')\n",
    "plt.show()"
   ]
  },
  {
   "cell_type": "markdown",
   "metadata": {},
   "source": [
    "# 아달린 구현"
   ]
  },
  {
   "cell_type": "code",
   "execution_count": 23,
   "metadata": {},
   "outputs": [],
   "source": [
    "class AdalineGD(object):\n",
    "    \"\"\" 적응형 선형 뉴런 분류기\n",
    "    \n",
    "    매개변수\n",
    "    ------------\n",
    "    eta = float\n",
    "        학습률 (0.0과 1.0 사이)\n",
    "    n_iter = int\n",
    "        훈련 데이터셋 반복 횟수 (에포크 횟수)\n",
    "    random_state : int\n",
    "        가중치 무작위 초기화를 위한 난수 생성기 시드\n",
    "    \n",
    "    속성\n",
    "    ------------\n",
    "    w_ : 1d-array\n",
    "        학습된 가중치\n",
    "    cost_ : list\n",
    "        에포크마다 누적된 비용 함수의 제곱합\n",
    "        \n",
    "    \"\"\"\n",
    "    \n",
    "    def __init__(self, eta = 0.01, n_iter = 50, random_state = 1):\n",
    "        self.eta = eta\n",
    "        self.n_iter = n_iter\n",
    "        self.random_state = random_state\n",
    "        \n",
    "    def fit(self, X, y):\n",
    "        \"\"\" 훈련데이터 학습\n",
    "        \n",
    "        매개변수\n",
    "        ------------\n",
    "        X : {array-like}, shape = [n_samples, n_features]\n",
    "            n_samples개의 샘플과 n_features개의 특성으로 이루어진 훈련 데이터\n",
    "        y : array-like, shape = [n_samples]\n",
    "            타깃 값\n",
    "            \n",
    "        반환값\n",
    "        ------------\n",
    "        self : object\n",
    "        \n",
    "        \"\"\"\n",
    "        rgen = np.random.RandomState(self.random_state)\n",
    "        self.w_ = rgen.normal(loc = 0.0, scale = 0.01,\n",
    "                             size = 1 + X.shape[1])\n",
    "        \n",
    "        self.cost_ = []\n",
    "        \n",
    "        for i in range(self.n_iter):\n",
    "            net_input = self.net_input(X)\n",
    "            output = self.activation(net_input)\n",
    "            errors = (y - output)\n",
    "            self.w_[1:] += self.eta * X.T.dot(errors)  # X.T.dot(errors) : 특성행렬과 오차 벡터 간의 행렬-벡터 곱셈\n",
    "            self.w_[0] += self.eta * errors.sum()\n",
    "            cost = (errors ** 2).sum() / 2.0\n",
    "            self.cost_.append(cost)\n",
    "        return self\n",
    "    \n",
    "    def net_input(self, X):\n",
    "        # 최종 입력 계산\n",
    "        return np.dot(X, self.w_[1:]) + self.w_[0]\n",
    "    \n",
    "    def activation(self, X):\n",
    "        # 선형 활성화 계산\n",
    "        # 해당 식에서는 단순 항등 함수임\n",
    "        return X\n",
    "    \n",
    "    def predict(self, X):\n",
    "    # 단위 계단 함수를 사용하여 클래스 레이블을 반환합니다.\n",
    "        return np.where(self.activation(self.net_input(X)) >= 0.0, 1, -1)"
   ]
  },
  {
   "cell_type": "code",
   "execution_count": 29,
   "metadata": {},
   "outputs": [
    {
     "data": {
      "image/png": "[encoded data removed]",
      "text/plain": [
       "<Figure size 720x288 with 2 Axes>"
      ]
     },
     "metadata": {
      "needs_background": "light"
     },
     "output_type": "display_data"
    }
   ],
   "source": [
    "fig, ax = plt.subplots(nrows = 1, ncols = 2, figsize = (10, 4))  # 2열로 된 subplot 그리기\n",
    "ada1 = AdalineGD(n_iter = 10, eta = 0.01).fit(X, y)\n",
    "ax[0].plot(range(1, len(ada1.cost_) + 1),      # 1, 10까지\n",
    "          np.log10(ada1.cost_), marker ='o')   # np.log10(x) = log10 X임 따라서 np.log10(100) = 2.0\n",
    "ax[0].set_xlabel(\"Epochs\")\n",
    "ax[0].set_ylabel(\"log(Sum-squared-error)\")\n",
    "ax[0].set_title(\"Adaline - Learning rate 0.01\")\n",
    "\n",
    "ada2 = AdalineGD(n_iter = 10, eta = 0.0001).fit(X, y)\n",
    "ax[1].plot(range(1, len(ada2.cost_) + 1),\n",
    "          ada2.cost_, marker = 'o')\n",
    "ax[1].set_xlabel(\"Epochs\")\n",
    "ax[1].set_ylabel(\"Sum-squared-error\")\n",
    "ax[1].set_title(\"Adaline - Learning rate 0.0001\")\n",
    "plt.show()"
   ]
  },
  {
   "cell_type": "markdown",
   "metadata": {},
   "source": [
    "- 학습률이 너무 높은 경우 전역 최솟값을 지나쳐서 오차 증가\n",
    "- 학습률이 너무 낮은 경우 전역 최솟값에 수렴하기 위해선 많은 에포크 필요"
   ]
  },
  {
   "cell_type": "code",
   "execution_count": null,
   "metadata": {},
   "outputs": [],
   "source": []
  }
 ],
 "metadata": {
  "kernelspec": {
   "display_name": "Python 3",
   "language": "python",
   "name": "python3"
  },
  "language_info": {
   "codemirror_mode": {
    "name": "ipython",
    "version": 3
   },
   "file_extension": ".py",
   "mimetype": "text/x-python",
   "name": "python",
   "nbconvert_exporter": "python",
   "pygments_lexer": "ipython3",
   "version": "3.8.5"
  }
 },
 "nbformat": 4,
 "nbformat_minor": 4
}
